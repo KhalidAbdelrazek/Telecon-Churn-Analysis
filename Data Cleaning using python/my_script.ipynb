{
 "cells": [
  {
   "cell_type": "code",
   "execution_count": 2,
   "id": "c6d6f30b",
   "metadata": {},
   "outputs": [
    {
     "name": "stdout",
     "output_type": "stream",
     "text": [
      "Added E:\\Data Analysis\\Vocat\\Projects\\Customer Churn Analysis Excel\\Data\\Telco_customer_churn.xlsx → Telco_customer_churn\n",
      "Added E:\\Data Analysis\\Vocat\\Projects\\Customer Churn Analysis Excel\\Data\\Telco_customer_churn_demographics.xlsx → Telco_customer_churn_demographi\n",
      "Added E:\\Data Analysis\\Vocat\\Projects\\Customer Churn Analysis Excel\\Data\\Telco_customer_churn_location.xlsx → Telco_customer_churn_location\n",
      "Added E:\\Data Analysis\\Vocat\\Projects\\Customer Churn Analysis Excel\\Data\\Telco_customer_churn_population.xlsx → Telco_customer_churn_population\n",
      "Added E:\\Data Analysis\\Vocat\\Projects\\Customer Churn Analysis Excel\\Data\\Telco_customer_churn_services.xlsx → Telco_customer_churn_services\n",
      "Added E:\\Data Analysis\\Vocat\\Projects\\Customer Churn Analysis Excel\\Data\\Telco_customer_churn_status.xlsx → Telco_customer_churn_status\n",
      "\n",
      "✅ All files saved into E:\\Data Analysis\\Vocat\\Projects\\Customer Churn Analysis Excel\\Data\\all_data_combined.xlsx with separate sheets\n"
     ]
    }
   ],
   "source": [
    "import pandas as pd\n",
    "import glob\n",
    "import os\n",
    "\n",
    "# Folder path\n",
    "path = r\"E:\\Data Analysis\\Vocat\\Projects\\Customer Churn Analysis Excel\\Data\"\n",
    "\n",
    "# Get all Excel files in the folder\n",
    "all_files = glob.glob(os.path.join(path, \"*.xlsx\"))\n",
    "\n",
    "# Output file\n",
    "output_file = os.path.join(path, \"all_data_combined.xlsx\")\n",
    "\n",
    "# Create Excel writer (xlsxwriter or openpyxl backend)\n",
    "with pd.ExcelWriter(output_file, engine=\"openpyxl\") as writer:\n",
    "    for file in all_files:\n",
    "        try:\n",
    "            # Read file\n",
    "            df = pd.read_excel(file)\n",
    "            \n",
    "            # Sheet name = file name (max 31 chars allowed in Excel)\n",
    "            sheet_name = os.path.splitext(os.path.basename(file))[0][:31]\n",
    "            \n",
    "            # Write each DataFrame into its own sheet\n",
    "            df.to_excel(writer, sheet_name=sheet_name, index=False)\n",
    "            \n",
    "            print(f\"Added {file} → {sheet_name}\")\n",
    "        except Exception as e:\n",
    "            print(f\"Error reading {file}: {e}\")\n",
    "\n",
    "print(f\"\\n✅ All files saved into {output_file} with separate sheets\")\n"
   ]
  },
  {
   "cell_type": "code",
   "execution_count": 4,
   "id": "239e1843",
   "metadata": {},
   "outputs": [],
   "source": [
    "import openpyxl\n",
    "from openpyxl.worksheet.table import Table, TableStyleInfo\n",
    "\n",
    "file_path = r\"E:\\Data Analysis\\Vocat\\Projects\\Customer Churn Analysis Excel\\Data\\all_data_combined.xlsx\"\n",
    "wb = openpyxl.load_workbook(file_path)\n",
    "\n",
    "for i, ws in enumerate(wb.worksheets, start=1):\n",
    "    # Find last used cell\n",
    "    max_row = ws.max_row\n",
    "    max_col = ws.max_column\n",
    "    col_letter = openpyxl.utils.get_column_letter(max_col)\n",
    "    \n",
    "    # Define table range\n",
    "    table_range = f\"A1:{col_letter}{max_row}\"\n",
    "\n",
    "    # Unique name per sheet\n",
    "    table_name = f\"Table_{ws.title}_{i}\"\n",
    "    \n",
    "    # Create table\n",
    "    table = Table(displayName=table_name, ref=table_range)\n",
    "    style = TableStyleInfo(name=\"TableStyleMedium9\", showRowStripes=True, showColumnStripes=True)\n",
    "    table.tableStyleInfo = style\n",
    "\n",
    "    # Add table\n",
    "    ws.add_table(table)\n",
    "\n",
    "new_file = file_path.replace(\".xlsx\", \"_with_tables.xlsx\")\n",
    "wb.save(new_file)"
   ]
  },
  {
   "cell_type": "code",
   "execution_count": null,
   "id": "f2a2ce63",
   "metadata": {},
   "outputs": [],
   "source": []
  }
 ],
 "metadata": {
  "kernelspec": {
   "display_name": "Python 3",
   "language": "python",
   "name": "python3"
  },
  "language_info": {
   "codemirror_mode": {
    "name": "ipython",
    "version": 3
   },
   "file_extension": ".py",
   "mimetype": "text/x-python",
   "name": "python",
   "nbconvert_exporter": "python",
   "pygments_lexer": "ipython3",
   "version": "3.13.7"
  }
 },
 "nbformat": 4,
 "nbformat_minor": 5
}
